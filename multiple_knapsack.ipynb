{
 "cells": [
  {
   "cell_type": "markdown",
   "metadata": {
    "id": "YPSvK2s2XqLT"
   },
   "source": [
    "### データ読み込み"
   ]
  },
  {
   "cell_type": "code",
   "execution_count": 3,
   "metadata": {
    "colab": {
     "base_uri": "https://localhost:8080/",
     "height": 426
    },
    "id": "lO6rRoZGXoG0",
    "outputId": "865fbaa1-71fa-495e-9c81-597ae25aef4c"
   },
   "outputs": [
    {
     "name": "stdout",
     "output_type": "stream",
     "text": [
      "No        int64\n",
      "Weight    int64\n",
      "Value     int64\n",
      "dtype: object\n"
     ]
    },
    {
     "data": {
      "text/html": [
       "<div>\n",
       "<style scoped>\n",
       "    .dataframe tbody tr th:only-of-type {\n",
       "        vertical-align: middle;\n",
       "    }\n",
       "\n",
       "    .dataframe tbody tr th {\n",
       "        vertical-align: top;\n",
       "    }\n",
       "\n",
       "    .dataframe thead th {\n",
       "        text-align: right;\n",
       "    }\n",
       "</style>\n",
       "<table border=\"1\" class=\"dataframe\">\n",
       "  <thead>\n",
       "    <tr style=\"text-align: right;\">\n",
       "      <th></th>\n",
       "      <th>No</th>\n",
       "      <th>Weight</th>\n",
       "      <th>Value</th>\n",
       "    </tr>\n",
       "  </thead>\n",
       "  <tbody>\n",
       "    <tr>\n",
       "      <th>0</th>\n",
       "      <td>1</td>\n",
       "      <td>90</td>\n",
       "      <td>108</td>\n",
       "    </tr>\n",
       "    <tr>\n",
       "      <th>1</th>\n",
       "      <td>2</td>\n",
       "      <td>120</td>\n",
       "      <td>96</td>\n",
       "    </tr>\n",
       "    <tr>\n",
       "      <th>2</th>\n",
       "      <td>3</td>\n",
       "      <td>120</td>\n",
       "      <td>144</td>\n",
       "    </tr>\n",
       "    <tr>\n",
       "      <th>3</th>\n",
       "      <td>4</td>\n",
       "      <td>210</td>\n",
       "      <td>168</td>\n",
       "    </tr>\n",
       "    <tr>\n",
       "      <th>4</th>\n",
       "      <td>5</td>\n",
       "      <td>160</td>\n",
       "      <td>192</td>\n",
       "    </tr>\n",
       "    <tr>\n",
       "      <th>5</th>\n",
       "      <td>6</td>\n",
       "      <td>180</td>\n",
       "      <td>144</td>\n",
       "    </tr>\n",
       "    <tr>\n",
       "      <th>6</th>\n",
       "      <td>7</td>\n",
       "      <td>280</td>\n",
       "      <td>336</td>\n",
       "    </tr>\n",
       "    <tr>\n",
       "      <th>7</th>\n",
       "      <td>8</td>\n",
       "      <td>40</td>\n",
       "      <td>32</td>\n",
       "    </tr>\n",
       "    <tr>\n",
       "      <th>8</th>\n",
       "      <td>9</td>\n",
       "      <td>80</td>\n",
       "      <td>96</td>\n",
       "    </tr>\n",
       "    <tr>\n",
       "      <th>9</th>\n",
       "      <td>10</td>\n",
       "      <td>50</td>\n",
       "      <td>40</td>\n",
       "    </tr>\n",
       "  </tbody>\n",
       "</table>\n",
       "</div>"
      ],
      "text/plain": [
       "   No  Weight  Value\n",
       "0   1      90    108\n",
       "1   2     120     96\n",
       "2   3     120    144\n",
       "3   4     210    168\n",
       "4   5     160    192\n",
       "5   6     180    144\n",
       "6   7     280    336\n",
       "7   8      40     32\n",
       "8   9      80     96\n",
       "9  10      50     40"
      ]
     },
     "execution_count": 3,
     "metadata": {},
     "output_type": "execute_result"
    }
   ],
   "source": [
    "import pandas as pd\n",
    "\n",
    "df = pd.read_csv(\"sample_data.csv\")\n",
    "print(df.dtypes)\n",
    "df"
   ]
  },
  {
   "cell_type": "markdown",
   "metadata": {
    "id": "lphxD0ZSlYMJ"
   },
   "source": [
    "### ナップサック問題"
   ]
  },
  {
   "cell_type": "code",
   "execution_count": 4,
   "metadata": {
    "id": "_uycbMLyfvX4"
   },
   "outputs": [],
   "source": [
    "from ortools.linear_solver import pywraplp"
   ]
  },
  {
   "cell_type": "code",
   "execution_count": 5,
   "metadata": {
    "id": "FnZd8y-8fzbh"
   },
   "outputs": [],
   "source": [
    "### ソルバー処理用に辞書に必要な情報を格納\n",
    "def create_data_model(df, num_bins, limit_item_capacity):\n",
    "    \"\"\"サンプルデータの作成\n",
    "    　df: 読み込むDataFrame、num_bins 設定する bin の数、limit_item_capacity: bin の中にいれられる item の数の上限\n",
    "    \"\"\"\n",
    "    \n",
    "    data = {}\n",
    "    weights = df[\"Weight\"].values.tolist() # 重量\n",
    "    values = df[\"Value\"].values.tolist() # 評価価値\n",
    "\n",
    "    data['weights'] = weights\n",
    "    data['values'] = values\n",
    "\n",
    "    data['items'] = list(range(len(weights))) # item No\n",
    "    data['num_items'] = len(weights)\n",
    "    num_bins = num_bins\n",
    "    data['bins'] = list(range(num_bins))\n",
    "    data['bin_capacities'] = [1000] * num_bins\n",
    "    data['max_items'] = [limit_item_capacity] * len(weights)\n",
    "    return data"
   ]
  },
  {
   "cell_type": "code",
   "execution_count": 6,
   "metadata": {
    "id": "zqXNsDeVgrWh"
   },
   "outputs": [],
   "source": [
    "# SCIP でソルバーを作成 \n",
    "solver = pywraplp.Solver.CreateSolver('SCIP')"
   ]
  },
  {
   "cell_type": "code",
   "execution_count": 7,
   "metadata": {
    "id": "pj6B4FQae77T"
   },
   "outputs": [],
   "source": [
    "data = create_data_model(df, 10, 3)"
   ]
  },
  {
   "cell_type": "code",
   "execution_count": 8,
   "metadata": {
    "id": "FmvI2dAEcoQ2"
   },
   "outputs": [],
   "source": [
    "# 変数\n",
    "# x[i, j] = 1 if item i is packed in bin j.\n",
    "x = {}\n",
    "for i in data['items']:\n",
    "    for j in data['bins']:\n",
    "        x[(i, j)] = solver.IntVar(0, 1, 'x_%i_%i' % (i, j))"
   ]
  },
  {
   "cell_type": "code",
   "execution_count": 9,
   "metadata": {
    "id": "up4U8mWBgv_w"
   },
   "outputs": [],
   "source": [
    "# 制約条件\n",
    "# 全ての item は bin のどこかに 1つだけ入る\n",
    "for i in data['items']:\n",
    "    solver.Add(sum(x[i, j] for j in data['bins']) <= 1)\n",
    "\n",
    "# bin_capacities で設定した重量以上の item を格納しない\n",
    "for j in data['bins']:\n",
    "    solver.Add(\n",
    "        sum(x[(i, j)] * data['weights'][i]\n",
    "            for i in data['items']) <= data['bin_capacities'][j])\n",
    "    \n",
    "# max_items に設定した数以上の item 数を格納しない\n",
    "for j in data['bins']:\n",
    "    bin_count = 0\n",
    "    for i in data['items']:\n",
    "        bin_count += x[i, j]\n",
    "    solver.Add(bin_count <= data['max_items'][j])"
   ]
  },
  {
   "cell_type": "code",
   "execution_count": 10,
   "metadata": {
    "id": "bICYvodpdQxy"
   },
   "outputs": [],
   "source": [
    "# 目的変数の設定\n",
    "objective = solver.Objective()\n",
    "\n",
    "for i in data['items']:\n",
    "    for j in data['bins']:\n",
    "        objective.SetCoefficient(x[(i, j)], data['values'][i])\n",
    "objective.SetMaximization()\n",
    "\n",
    "status = solver.Solve()"
   ]
  },
  {
   "cell_type": "code",
   "execution_count": 11,
   "metadata": {
    "colab": {
     "base_uri": "https://localhost:8080/",
     "height": 359
    },
    "id": "FMVWcz-0g0-5",
    "outputId": "eba0cb56-b357-438b-a20c-6ffc15960ba7"
   },
   "outputs": [
    {
     "data": {
      "text/html": [
       "<div>\n",
       "<style scoped>\n",
       "    .dataframe tbody tr th:only-of-type {\n",
       "        vertical-align: middle;\n",
       "    }\n",
       "\n",
       "    .dataframe tbody tr th {\n",
       "        vertical-align: top;\n",
       "    }\n",
       "\n",
       "    .dataframe thead th {\n",
       "        text-align: right;\n",
       "    }\n",
       "</style>\n",
       "<table border=\"1\" class=\"dataframe\">\n",
       "  <thead>\n",
       "    <tr style=\"text-align: right;\">\n",
       "      <th></th>\n",
       "      <th>bin</th>\n",
       "      <th>item</th>\n",
       "      <th>weight</th>\n",
       "      <th>value</th>\n",
       "    </tr>\n",
       "  </thead>\n",
       "  <tbody>\n",
       "    <tr>\n",
       "      <th>0</th>\n",
       "      <td>0</td>\n",
       "      <td>0</td>\n",
       "      <td>90</td>\n",
       "      <td>108</td>\n",
       "    </tr>\n",
       "    <tr>\n",
       "      <th>1</th>\n",
       "      <td>0</td>\n",
       "      <td>1</td>\n",
       "      <td>120</td>\n",
       "      <td>96</td>\n",
       "    </tr>\n",
       "    <tr>\n",
       "      <th>2</th>\n",
       "      <td>0</td>\n",
       "      <td>2</td>\n",
       "      <td>120</td>\n",
       "      <td>144</td>\n",
       "    </tr>\n",
       "    <tr>\n",
       "      <th>3</th>\n",
       "      <td>1</td>\n",
       "      <td>3</td>\n",
       "      <td>210</td>\n",
       "      <td>168</td>\n",
       "    </tr>\n",
       "    <tr>\n",
       "      <th>4</th>\n",
       "      <td>1</td>\n",
       "      <td>4</td>\n",
       "      <td>160</td>\n",
       "      <td>192</td>\n",
       "    </tr>\n",
       "    <tr>\n",
       "      <th>5</th>\n",
       "      <td>1</td>\n",
       "      <td>5</td>\n",
       "      <td>180</td>\n",
       "      <td>144</td>\n",
       "    </tr>\n",
       "    <tr>\n",
       "      <th>6</th>\n",
       "      <td>2</td>\n",
       "      <td>6</td>\n",
       "      <td>280</td>\n",
       "      <td>336</td>\n",
       "    </tr>\n",
       "    <tr>\n",
       "      <th>7</th>\n",
       "      <td>2</td>\n",
       "      <td>7</td>\n",
       "      <td>40</td>\n",
       "      <td>32</td>\n",
       "    </tr>\n",
       "    <tr>\n",
       "      <th>8</th>\n",
       "      <td>2</td>\n",
       "      <td>8</td>\n",
       "      <td>80</td>\n",
       "      <td>96</td>\n",
       "    </tr>\n",
       "    <tr>\n",
       "      <th>9</th>\n",
       "      <td>3</td>\n",
       "      <td>9</td>\n",
       "      <td>50</td>\n",
       "      <td>40</td>\n",
       "    </tr>\n",
       "  </tbody>\n",
       "</table>\n",
       "</div>"
      ],
      "text/plain": [
       "   bin  item  weight  value\n",
       "0    0     0      90    108\n",
       "1    0     1     120     96\n",
       "2    0     2     120    144\n",
       "3    1     3     210    168\n",
       "4    1     4     160    192\n",
       "5    1     5     180    144\n",
       "6    2     6     280    336\n",
       "7    2     7      40     32\n",
       "8    2     8      80     96\n",
       "9    3     9      50     40"
      ]
     },
     "metadata": {},
     "output_type": "display_data"
    }
   ],
   "source": [
    "df_knapsack = pd.DataFrame() # 集約するための空のDataFrame\n",
    "\n",
    "if status == pywraplp.Solver.OPTIMAL:\n",
    "    total_weight = 0\n",
    "    for j in data['bins']:\n",
    "        bin_weight = 0\n",
    "        bin_value = 0\n",
    "        for i in data['items']:\n",
    "            if x[i, j].solution_value() > 0:\n",
    "                bin_weight += data['weights'][i]\n",
    "                bin_value += data['values'][i]\n",
    "\n",
    "                # 必要な情報を 一時的な DataFrameに格納して df_knapsack に結合\n",
    "                df_tmp = pd.DataFrame(\n",
    "                    [\n",
    "                        j, # Bin\n",
    "                        i, # item\n",
    "                        data['weights'][i], # weight\n",
    "                        data['values'][i], # values\n",
    "                    ]\n",
    "                ).T\n",
    "                df_tmp.columns=[\"bin\", \"item\", \"weight\", \"value\"]\n",
    "                df_knapsack = pd.concat([df_knapsack, df_tmp], axis=0)\n",
    "\n",
    "        if bin_weight == 0: # 何も入らない bin が登場したら break で処理を終わらせる\n",
    "            break\n",
    "        total_weight += bin_weight\n",
    "else:\n",
    "    print('The problem does not have an optimal solution.')\n",
    "\n",
    "df_knapsack = df_knapsack.reset_index(drop=True)\n",
    "assert df_knapsack[\"weight\"].sum() == df[\"Weight\"].sum() # 元データとナップサック処理後のデータで重量が一致するかテスト\n",
    "display(df_knapsack)"
   ]
  }
 ],
 "metadata": {
  "colab": {
   "collapsed_sections": [],
   "name": "multiple_knapsack.ipynb",
   "provenance": []
  },
  "kernelspec": {
   "display_name": "Python 3",
   "language": "python",
   "name": "python3"
  },
  "language_info": {
   "codemirror_mode": {
    "name": "ipython",
    "version": 3
   },
   "file_extension": ".py",
   "mimetype": "text/x-python",
   "name": "python",
   "nbconvert_exporter": "python",
   "pygments_lexer": "ipython3",
   "version": "3.8.8"
  }
 },
 "nbformat": 4,
 "nbformat_minor": 4
}
